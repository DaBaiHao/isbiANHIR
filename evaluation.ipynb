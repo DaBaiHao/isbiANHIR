{
 "cells": [
  {
   "cell_type": "code",
   "execution_count": 17,
   "metadata": {},
   "outputs": [],
   "source": [
    "from scipy.spatial import distance\n",
    "import pandas as pd\n",
    "from PIL import Image\n",
    "import numpy"
   ]
  },
  {
   "cell_type": "code",
   "execution_count": 18,
   "metadata": {},
   "outputs": [
    {
     "name": "stdout",
     "output_type": "stream",
     "text": [
      "images/lung-lesion_2/scale-25pc/29-041-Izd2-w35-He-les2.jpg\n",
      "images/lung-lesion_2/scale-25pc/29-041-Izd2-w35-He-les2.jpg\n"
     ]
    },
    {
     "name": "stderr",
     "output_type": "stream",
     "text": [
      "C:\\Users\\Administrator\\Anaconda3\\envs\\pytouch\\lib\\site-packages\\ipykernel_launcher.py:24: FutureWarning: set_value is deprecated and will be removed in a future release. Please use .at[] or .iat[] accessors instead\n",
      "C:\\Users\\Administrator\\Anaconda3\\envs\\pytouch\\lib\\site-packages\\ipykernel_launcher.py:25: FutureWarning: set_value is deprecated and will be removed in a future release. Please use .at[] or .iat[] accessors instead\n",
      "C:\\Users\\Administrator\\Anaconda3\\envs\\pytouch\\lib\\site-packages\\ipykernel_launcher.py:26: FutureWarning: set_value is deprecated and will be removed in a future release. Please use .at[] or .iat[] accessors instead\n",
      "C:\\Users\\Administrator\\Anaconda3\\envs\\pytouch\\lib\\site-packages\\ipykernel_launcher.py:27: FutureWarning: set_value is deprecated and will be removed in a future release. Please use .at[] or .iat[] accessors instead\n"
     ]
    }
   ],
   "source": [
    "def read_csv_file():\n",
    "\n",
    "\n",
    "    DATASET_MEDIUM_DIR = 'can_be_train.csv'\n",
    "    Image.MAX_IMAGE_PIXELS = None\n",
    "\n",
    "    imgs_dirs = []\n",
    "    dataset_read_result = pd.read_csv(DATASET_MEDIUM_DIR)\n",
    "    i = 0\n",
    "    for each_img_dir, \\\n",
    "        each_landmarks_dir, \\\n",
    "        each_target_image, \\\n",
    "        each_target_landmarks, \\\n",
    "        each_status in zip(dataset_read_result['Source image'],\n",
    "                           dataset_read_result['Source landmarks'],\n",
    "                           dataset_read_result['Target image'],\n",
    "                           dataset_read_result['Target landmarks'],\n",
    "                           dataset_read_result['status']):\n",
    "        each_img_dir = 'images/' + each_img_dir\n",
    "        each_landmarks_dir = 'landmarks/' + each_landmarks_dir\n",
    "        each_target_image = 'images/' + each_target_image\n",
    "        each_target_landmarks = 'landmarks/' + each_target_landmarks\n",
    "\n",
    "        dataset_read_result.set_value(index=i, col='Source image', value=each_img_dir)\n",
    "        dataset_read_result.set_value(index=i, col='Source landmarks', value=each_landmarks_dir)\n",
    "        dataset_read_result.set_value(index=i, col='Target image', value=each_target_image)\n",
    "        dataset_read_result.set_value(index=i, col='Target landmarks', value=each_target_landmarks)\n",
    "\n",
    "        imgs_dirs.append(each_img_dir)\n",
    "        i = i + 1\n",
    "\n",
    "    print(dataset_read_result['Source image'][1])\n",
    "    print(imgs_dirs[1])\n",
    "    return dataset_read_result\n",
    "\n",
    "\n",
    "dataset_read_result = read_csv_file()\n",
    "\n",
    "# the first 10\n",
    "source_image_array = dataset_read_result['Source image']\n",
    "target_image_array = dataset_read_result['Target image']\n",
    "source_image_landmarks = dataset_read_result['Source landmarks']\n",
    "target_image_landmarks = dataset_read_result['Target landmarks']"
   ]
  },
  {
   "cell_type": "code",
   "execution_count": 22,
   "metadata": {},
   "outputs": [
    {
     "name": "stdout",
     "output_type": "stream",
     "text": [
      "[(-566, -990), (-351, 1409), (-604, 2024), (995, 855), (865, -1173), (-546, -551), (604, -1607), (451, 748), (-98, -829), (1693, 1385), (-2390, 422), (-1244, 2536), (2671, -1686), (1257, -751), (5336, -1848), (712, -1045), (2947, -1399), (1881, -983), (-1147, 1123), (-1255, 1780), (-1484, 681), (1275, -159), (-172, -1082), (-126, 1206), (2864, -473), (886, -180), (1537, 66), (1145, -1891), (2317, 408), (212, 376), (-357, -1473), (-687, -1480), (234, 246), (1071, -1462), (-1087, 1730), (-2677, 310), (3793, 467), (-2932, -800), (113, -1140), (1975, 1290), (-822, -624), (1388, -520), (-1494, -346), (-1981, -209), (643, -919), (88, 365), (-2847, -1003), (1764, -3427), (-2204, -1106), (2974, 164), (-3589, 1772), (-3054, 1543), (2233, -1001), (1120, -1197), (-3680, 475), (-3143, -45), (-933, -456), (-73, 349), (-1650, 85), (-2674, -1809), (1506, -289), (2032, 191), (927, -1590), (-49, -682), (-2133, -1577), (-3239, 530), (-873, -1456), (1439, -134), (627, -204), (-869, 955)]\n",
      "[(377, 558), (747, 804), (335, 926), (1088, 750), (1094, 979), (1549, 1144), (1675, 786), (1708, 1565), (2388, 1392), (2856, 1015), (2592, 1227), (2539, 662), (3250, 943), (3088, 586), (3248, 1419), (3889, 720), (3663, 878), (3716, 1159), (4139, 1394), (4389, 1649), (4572, 2122), (4612, 1793), (3852, 1875), (3644, 2168), (3327, 2295), (3309, 1964), (2713, 2050), (4000, 899), (4316, 848), (4209, 1189), (4521, 1153), (4820, 928), (4894, 814), (4949, 1285), (4510, 1526), (5378, 2176), (5572, 1823), (5880, 2174), (4825, 2054), (5087, 548), (5722, 930), (5563, 1097), (6236, 1436), (6313, 1123), (6498, 1553), (6788, 1802), (6803, 1969), (7220, 2081), (6734, 2197), (7022, 1898), (7291, 1650), (7236, 1430), (7428, 1914), (7671, 1804), (6986, 1044), (6887, 1301), (8545, 1805), (8019, 1902), (7546, 1052), (7414, 713), (7085, 751), (7571, 1615), (7690, 1263), (8006, 1379), (8116, 1187), (8301, 1409), (8494, 1364), (8851, 1419), (8896, 984), (8661, 1159), (8564, 809), (8212, 842), (7821, 573), (8285, 481), (8732, 369), (5196, 2017)]\n"
     ]
    }
   ],
   "source": [
    "source_image_landmark = 'real_result/source_landmark340.csv'\n",
    "current = pd.read_csv(source_image_landmark)\n",
    "X = current['X']\n",
    "Y = current['Y']\n",
    "coords_1 = []\n",
    "for x,y in zip(X,Y):\n",
    "    coords_1.append((x,y))\n",
    "print(coords_1)\n",
    "\n",
    "source_image_landmark = source_image_landmarks[107]\n",
    "current = pd.read_csv(source_image_landmark)\n",
    "X = current['X']\n",
    "Y = current['Y']\n",
    "coords_2 = []\n",
    "for x,y in zip(X,Y):\n",
    "    coords_2.append((x,y))\n",
    "print(coords_2)"
   ]
  },
  {
   "cell_type": "code",
   "execution_count": 23,
   "metadata": {},
   "outputs": [
    {
     "name": "stdout",
     "output_type": "stream",
     "text": [
      "[[1812.60944497 2223.15204158 2117.2758441  ... 8972.40447149\n",
      "  9396.79120764 6499.43789877]\n",
      " [1119.90401374 1253.64628185  838.97854561 ... 8685.71701128\n",
      "  9142.34592432 5580.22159058]\n",
      " [1763.94926231 1820.32991515 1444.75776516 ... 9021.92717772\n",
      "  9481.55688693 5800.00422414]\n",
      " ...\n",
      " [1267.55986052 1165.63630692 1530.49534465 ... 6873.56828729\n",
      "  7310.32543735 4329.1858357 ]\n",
      " [ 801.96259264 1015.11772716 1167.11781753 ... 7688.57522562\n",
      "  8125.22947368 5080.21672766]\n",
      " [1307.71747713 1623.03943267 1204.34920185 ... 9166.26379721\n",
      "  9618.86672119 6157.2777264 ]]\n"
     ]
    }
   ],
   "source": [
    "TRE = distance.cdist(coords_1, coords_2, \"euclidean\") \n",
    "print(TRE)"
   ]
  },
  {
   "cell_type": "code",
   "execution_count": 24,
   "metadata": {},
   "outputs": [
    {
     "name": "stdout",
     "output_type": "stream",
     "text": [
      "[[0.18573325 0.22780045 0.2169516  ... 0.91937833 0.9628641  0.66598005]\n",
      " [0.11475357 0.12845779 0.08596789 ... 0.89000223 0.93679177 0.57179041]\n",
      " [0.18074717 0.18652435 0.14804047 ... 0.92445279 0.97154982 0.59431094]\n",
      " ...\n",
      " [0.12988347 0.11943964 0.15682577 ... 0.70431619 0.74906953 0.44360011]\n",
      " [0.08217497 0.1040164  0.11959145 ... 0.78782777 0.83257057 0.52055624]\n",
      " [0.13399832 0.16630852 0.12340645 ... 0.93924257 0.98561959 0.63091981]]\n"
     ]
    }
   ],
   "source": [
    "source  = Image.open(source_image_array[107])\n",
    "width, height = source.size\n",
    "\n",
    "sqrt_height_square_and_weight = numpy.sqrt(numpy.square(width)+numpy.square(height))\n",
    "rTRE = TRE/sqrt_height_square_and_weight\n",
    "print(rTRE)"
   ]
  },
  {
   "cell_type": "code",
   "execution_count": 25,
   "metadata": {},
   "outputs": [
    {
     "name": "stdout",
     "output_type": "stream",
     "text": [
      "0.603544009971475\n"
     ]
    }
   ],
   "source": [
    "rTRE_mean = numpy.mean(rTRE)\n",
    "print(rTRE_mean)"
   ]
  },
  {
   "cell_type": "code",
   "execution_count": null,
   "metadata": {},
   "outputs": [],
   "source": []
  },
  {
   "cell_type": "code",
   "execution_count": 27,
   "metadata": {},
   "outputs": [
    {
     "ename": "NameError",
     "evalue": "name 'nn' is not defined",
     "output_type": "error",
     "traceback": [
      "\u001b[1;31m---------------------------------------------------------------------------\u001b[0m",
      "\u001b[1;31mNameError\u001b[0m                                 Traceback (most recent call last)",
      "\u001b[1;32m<ipython-input-27-a5d0de8e90e5>\u001b[0m in \u001b[0;36m<module>\u001b[1;34m\u001b[0m\n\u001b[1;32m----> 1\u001b[1;33m \u001b[1;32mclass\u001b[0m \u001b[0mDiscriminator\u001b[0m\u001b[1;33m(\u001b[0m\u001b[0mnn\u001b[0m\u001b[1;33m.\u001b[0m\u001b[0mModule\u001b[0m\u001b[1;33m)\u001b[0m\u001b[1;33m:\u001b[0m\u001b[1;33m\u001b[0m\u001b[1;33m\u001b[0m\u001b[0m\n\u001b[0m\u001b[0;32m      2\u001b[0m     \u001b[1;32mdef\u001b[0m \u001b[0m__init__\u001b[0m\u001b[1;33m(\u001b[0m\u001b[0mself\u001b[0m\u001b[1;33m)\u001b[0m\u001b[1;33m:\u001b[0m\u001b[1;33m\u001b[0m\u001b[1;33m\u001b[0m\u001b[0m\n\u001b[0;32m      3\u001b[0m         \u001b[0msuper\u001b[0m\u001b[1;33m(\u001b[0m\u001b[0mDiscriminator\u001b[0m\u001b[1;33m,\u001b[0m\u001b[0mself\u001b[0m\u001b[1;33m)\u001b[0m\u001b[1;33m.\u001b[0m\u001b[0m__init__\u001b[0m\u001b[1;33m(\u001b[0m\u001b[1;33m)\u001b[0m\u001b[1;33m\u001b[0m\u001b[1;33m\u001b[0m\u001b[0m\n\u001b[0;32m      4\u001b[0m \u001b[1;33m\u001b[0m\u001b[0m\n\u001b[0;32m      5\u001b[0m \u001b[1;33m\u001b[0m\u001b[0m\n",
      "\u001b[1;31mNameError\u001b[0m: name 'nn' is not defined"
     ]
    }
   ],
   "source": [
    "class Discriminator(nn.Module):\n",
    "    def __init__(self):\n",
    "        super(Discriminator,self).__init__()\n",
    "        \n",
    "        \n",
    "        self.cos_1 = nn.CosineSimilarity(eps=1e-6)\n",
    "        self.cos_2 = nn.CosineSimilarity(eps=1e-6)\n",
    "        \n",
    "    def forward(self,x_1,x_2,y_1,y_2):\n",
    "        \n",
    "        \n",
    "        x = self.cos_1(x_1,x_2)\n",
    "        y = self.cos_2(y_1,y_2)\n",
    "        \n",
    "        output = nn.Sigmoid(x)+nn.Sigmoid(y)\n",
    "        if(output == 2):\n",
    "            return 1\n",
    "        else:\n",
    "            return 0"
   ]
  },
  {
   "cell_type": "code",
   "execution_count": null,
   "metadata": {},
   "outputs": [],
   "source": []
  }
 ],
 "metadata": {
  "kernelspec": {
   "display_name": "Python 3",
   "language": "python",
   "name": "python3"
  },
  "language_info": {
   "codemirror_mode": {
    "name": "ipython",
    "version": 3
   },
   "file_extension": ".py",
   "mimetype": "text/x-python",
   "name": "python",
   "nbconvert_exporter": "python",
   "pygments_lexer": "ipython3",
   "version": "3.6.8"
  }
 },
 "nbformat": 4,
 "nbformat_minor": 2
}
