{
 "cells": [
  {
   "cell_type": "code",
   "execution_count": 2,
   "metadata": {
    "collapsed": true
   },
   "outputs": [],
   "source": [
    "#%%\n",
    "import pandas as pd\n",
    "import numpy as np\n",
    "import matplotlib.image as mpimg\n",
    "import matplotlib.pyplot as plt\n",
    "from PIL import Image\n",
    "\n",
    "DATASET_MEDIUM_DIR = 'dataset_medium.csv'\n",
    "# expected image extensions\n",
    "IMAGE_EXT = ('.png', '.jpg', '.jpeg')\n",
    "LANDMARK_COORDS = ('X', 'Y')\n",
    "Image.MAX_IMAGE_PIXELS = None"
   ]
  },
  {
   "cell_type": "code",
   "execution_count": 3,
   "metadata": {},
   "outputs": [
    {
     "name": "stderr",
     "output_type": "stream",
     "text": [
      "D:\\Anaconda3\\envs\\tensorflow\\lib\\site-packages\\ipykernel_launcher.py:19: FutureWarning: set_value is deprecated and will be removed in a future release. Please use .at[] or .iat[] accessors instead\nD:\\Anaconda3\\envs\\tensorflow\\lib\\site-packages\\ipykernel_launcher.py:20: FutureWarning: set_value is deprecated and will be removed in a future release. Please use .at[] or .iat[] accessors instead\nD:\\Anaconda3\\envs\\tensorflow\\lib\\site-packages\\ipykernel_launcher.py:21: FutureWarning: set_value is deprecated and will be removed in a future release. Please use .at[] or .iat[] accessors instead\nD:\\Anaconda3\\envs\\tensorflow\\lib\\site-packages\\ipykernel_launcher.py:22: FutureWarning: set_value is deprecated and will be removed in a future release. Please use .at[] or .iat[] accessors instead\n"
     ]
    }
   ],
   "source": [
    "# read all images\n",
    "imgs_dirs = []\n",
    "dataset_read_result = pd.read_csv(DATASET_MEDIUM_DIR)\n",
    "i = 0\n",
    "for each_img_dir,\\\n",
    "    each_landmarks_dir,\\\n",
    "    each_target_image,\\\n",
    "    each_target_landmarks,\\\n",
    "    each_status in zip(dataset_read_result['Source image'],\n",
    "                       dataset_read_result['Source landmarks'],\n",
    "                       dataset_read_result['Target image'],\n",
    "                       dataset_read_result['Target landmarks'],\n",
    "                       dataset_read_result['status']):\n",
    "    each_img_dir = 'images/'+each_img_dir\n",
    "    each_landmarks_dir = 'landmarks/' + each_landmarks_dir\n",
    "    each_target_image = 'images/'+each_target_image\n",
    "    each_target_landmarks = 'landmarks/' + each_target_landmarks\n",
    "\n",
    "    dataset_read_result.set_value(index=i, col='Source image', value=each_img_dir)\n",
    "    dataset_read_result.set_value(index=i, col='Source landmarks', value=each_landmarks_dir)\n",
    "    dataset_read_result.set_value(index=i, col='Target image', value=each_target_image)\n",
    "    dataset_read_result.set_value(index=i, col='Target landmarks', value=each_target_landmarks)\n",
    "\n",
    "    imgs_dirs.append(each_img_dir)\n",
    "    i = i+1"
   ]
  },
  {
   "cell_type": "code",
   "execution_count": 4,
   "metadata": {},
   "outputs": [
    {
     "name": "stdout",
     "output_type": "stream",
     "text": [
      "images/COAD_01/scale-25pc/S3.jpg\nimages/COAD_01/scale-25pc/S3.jpg\n481\n"
     ]
    }
   ],
   "source": [
    "print(dataset_read_result['Source image'][1])\n",
    "print(imgs_dirs[1])\n",
    "print(len(dataset_read_result))"
   ]
  },
  {
   "cell_type": "code",
   "execution_count": 5,
   "metadata": {
    "collapsed": true
   },
   "outputs": [
    {
     "name": "stdout",
     "output_type": "stream",
     "text": [
      "481\n481\n"
     ]
    }
   ],
   "source": [
    "source_image_array = dataset_read_result['Source image']\n",
    "target_image_array = dataset_read_result['Target image']\n",
    "print(len(source_image_array))\n",
    "print(len(target_image_array))\n",
    "assert len(source_image_array) == len(target_image_array)"
   ]
  },
  {
   "cell_type": "code",
   "execution_count": 5,
   "metadata": {},
   "outputs": [],
   "source": [
    ""
   ]
  },
  {
   "cell_type": "code",
   "execution_count": 5,
   "metadata": {},
   "outputs": [],
   "source": []
  },
  {
   "cell_type": "code",
   "execution_count": null,
   "metadata": {},
   "outputs": [],
   "source": []
  }
 ],
 "metadata": {
  "kernelspec": {
   "display_name": "Python 2",
   "language": "python",
   "name": "python2"
  },
  "language_info": {
   "codemirror_mode": {
    "name": "ipython",
    "version": 2
   },
   "file_extension": ".py",
   "mimetype": "text/x-python",
   "name": "python",
   "nbconvert_exporter": "python",
   "pygments_lexer": "ipython2",
   "version": "2.7.6"
  }
 },
 "nbformat": 4,
 "nbformat_minor": 0
}
