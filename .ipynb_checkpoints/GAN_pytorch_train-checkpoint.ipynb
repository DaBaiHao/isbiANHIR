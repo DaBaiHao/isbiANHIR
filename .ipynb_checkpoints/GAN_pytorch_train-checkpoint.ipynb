{
 "cells": [
  {
   "cell_type": "code",
   "execution_count": 5,
   "metadata": {},
   "outputs": [],
   "source": [
    "import torch\n",
    "import torchvision\n",
    "import torchvision.transforms as transforms\n",
    "from PIL import Image\n",
    "Image.MAX_IMAGE_PIXELS = None  # Disable DecompressionBombError\n",
    "import pandas as pd\n",
    "import os\n",
    "import matplotlib.pyplot as plt\n",
    "from skimage import io, transform\n",
    "from torch.autograd import Variable\n",
    "import torch.nn as nn\n",
    "import torch.nn.functional as F\n",
    "import torch.optim as optim"
   ]
  },
  {
   "cell_type": "code",
   "execution_count": 3,
   "metadata": {},
   "outputs": [],
   "source": [
    "# Size of feature maps in discriminator\n",
    "ndf = 64\n",
    "\n",
    "# Number of channels in the training images. For color images this is 3\n",
    "nc = 3"
   ]
  },
  {
   "cell_type": "code",
   "execution_count": 6,
   "metadata": {},
   "outputs": [],
   "source": [
    "class Discriminator(nn.Module):\n",
    "    def __init__(self, ngpu):\n",
    "        super(Discriminator, self).__init__()\n",
    "        \n",
    "        self.conv1 =nn.Conv2d(3, 32, kernel_size=3, stride=2, padding=1)\n",
    "        self.bn1=nn.BatchNorm2d(32)\n",
    "        self.leakyreLU1=nn.LeakyReLU(0.2, inplace=True)\n",
    "            \n",
    "            \n",
    "        self.conv2 =nn.Conv2d(32, 64, kernel_size=3, stride=2, padding=1)\n",
    "        self.bn2=nn.BatchNorm2d(64)\n",
    "        self.leakyreLU2=nn.LeakyReLU(0.2, inplace=True)\n",
    "        self.pool_1 = nn.MaxPool2d(kernel_size=3, stride=2, padding=0)\n",
    "            \n",
    "        self.conv3 =nn.Conv2d(64, 128, kernel_size=3, stride=2, padding=1)\n",
    "            \n",
    "        self.reg_1 = nn.Linear(128 * 16 * 16, 700)\n",
    "        self.reg_1_1 = nn.Linear(700, 70)\n",
    "            \n",
    "            \n",
    "        self.deconv1=nn.ConvTranspose2d(128, 64, kernel_size=3, stride=2)\n",
    "        self.bn3=nn.BatchNorm2d(64)\n",
    "        self.conv4 =nn.Conv2d(64, 64, kernel_size=3, stride=2, padding=1)\n",
    "        self.bn4=nn.BatchNorm2d(64)\n",
    "        self.reg_2 =nn.Linear(128 * 16 * 16, 700)\n",
    "        self.reg_2_1 =nn.Linear(700, 70)\n",
    "            \n",
    "        \n",
    "        \n",
    "    def forward(self,x_1,y_1,x_2,y_2,image1,image2):\n",
    "        x = self.leakyreLU1(self.bn1(self.conv1(image1)))\n",
    "        x = self.leakyreLU2(self.bn2(self.conv2(x)))\n",
    "        x = self.pool_1(x)\n",
    "        x = self.conv3(x)\n",
    "        x_1 = x.view(-1, 128 * 16 * 16)\n",
    "        x_1 = self.reg_1(x_1)\n",
    "        x_1 = self.reg_1_1(x_1)\n",
    "        \n",
    "        x = F.relu(self.bn3(self.deconv1(x)))\n",
    "        x = F.relu(self.bn4(self.conv4(x)))\n",
    "        x_2 = x.view(-1, 64 * 17 * 17)\n",
    "        x_2 = self.reg_2(x_2)\n",
    "        x_2 = self.reg_2_1(x_2)\n",
    "        \n",
    "        # add evaluation function\n",
    "        \n",
    "        return "
   ]
  },
  {
   "cell_type": "code",
   "execution_count": null,
   "metadata": {},
   "outputs": [],
   "source": []
  }
 ],
 "metadata": {
  "kernelspec": {
   "display_name": "Python 3",
   "language": "python",
   "name": "python3"
  },
  "language_info": {
   "codemirror_mode": {
    "name": "ipython",
    "version": 3
   },
   "file_extension": ".py",
   "mimetype": "text/x-python",
   "name": "python",
   "nbconvert_exporter": "python",
   "pygments_lexer": "ipython3",
   "version": "3.6.8"
  }
 },
 "nbformat": 4,
 "nbformat_minor": 2
}
