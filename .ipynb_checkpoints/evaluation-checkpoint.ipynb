{
 "cells": [
  {
   "cell_type": "code",
   "execution_count": 18,
   "metadata": {},
   "outputs": [],
   "source": [
    "from scipy.spatial import distance\n",
    "import pandas as pd\n",
    "from PIL import Image\n",
    "import numpy"
   ]
  },
  {
   "cell_type": "code",
   "execution_count": 10,
   "metadata": {},
   "outputs": [
    {
     "name": "stdout",
     "output_type": "stream",
     "text": [
      "images/lung-lesion_2/scale-25pc/29-041-Izd2-w35-He-les2.jpg\n",
      "images/lung-lesion_2/scale-25pc/29-041-Izd2-w35-He-les2.jpg\n"
     ]
    },
    {
     "name": "stderr",
     "output_type": "stream",
     "text": [
      "C:\\Users\\Administrator\\Anaconda3\\envs\\pytouch\\lib\\site-packages\\ipykernel_launcher.py:24: FutureWarning: set_value is deprecated and will be removed in a future release. Please use .at[] or .iat[] accessors instead\n",
      "C:\\Users\\Administrator\\Anaconda3\\envs\\pytouch\\lib\\site-packages\\ipykernel_launcher.py:25: FutureWarning: set_value is deprecated and will be removed in a future release. Please use .at[] or .iat[] accessors instead\n",
      "C:\\Users\\Administrator\\Anaconda3\\envs\\pytouch\\lib\\site-packages\\ipykernel_launcher.py:26: FutureWarning: set_value is deprecated and will be removed in a future release. Please use .at[] or .iat[] accessors instead\n",
      "C:\\Users\\Administrator\\Anaconda3\\envs\\pytouch\\lib\\site-packages\\ipykernel_launcher.py:27: FutureWarning: set_value is deprecated and will be removed in a future release. Please use .at[] or .iat[] accessors instead\n"
     ]
    }
   ],
   "source": [
    "def read_csv_file():\n",
    "\n",
    "\n",
    "    DATASET_MEDIUM_DIR = 'can_be_train.csv'\n",
    "    Image.MAX_IMAGE_PIXELS = None\n",
    "\n",
    "    imgs_dirs = []\n",
    "    dataset_read_result = pd.read_csv(DATASET_MEDIUM_DIR)\n",
    "    i = 0\n",
    "    for each_img_dir, \\\n",
    "        each_landmarks_dir, \\\n",
    "        each_target_image, \\\n",
    "        each_target_landmarks, \\\n",
    "        each_status in zip(dataset_read_result['Source image'],\n",
    "                           dataset_read_result['Source landmarks'],\n",
    "                           dataset_read_result['Target image'],\n",
    "                           dataset_read_result['Target landmarks'],\n",
    "                           dataset_read_result['status']):\n",
    "        each_img_dir = 'images/' + each_img_dir\n",
    "        each_landmarks_dir = 'landmarks/' + each_landmarks_dir\n",
    "        each_target_image = 'images/' + each_target_image\n",
    "        each_target_landmarks = 'landmarks/' + each_target_landmarks\n",
    "\n",
    "        dataset_read_result.set_value(index=i, col='Source image', value=each_img_dir)\n",
    "        dataset_read_result.set_value(index=i, col='Source landmarks', value=each_landmarks_dir)\n",
    "        dataset_read_result.set_value(index=i, col='Target image', value=each_target_image)\n",
    "        dataset_read_result.set_value(index=i, col='Target landmarks', value=each_target_landmarks)\n",
    "\n",
    "        imgs_dirs.append(each_img_dir)\n",
    "        i = i + 1\n",
    "\n",
    "    print(dataset_read_result['Source image'][1])\n",
    "    print(imgs_dirs[1])\n",
    "    return dataset_read_result\n",
    "\n",
    "\n",
    "dataset_read_result = read_csv_file()\n",
    "\n",
    "# the first 10\n",
    "source_image_array = dataset_read_result['Source image']\n",
    "target_image_array = dataset_read_result['Target image']\n",
    "source_image_landmarks = dataset_read_result['Source landmarks']\n",
    "target_image_landmarks = dataset_read_result['Target landmarks']"
   ]
  },
  {
   "cell_type": "code",
   "execution_count": 23,
   "metadata": {},
   "outputs": [
    {
     "name": "stdout",
     "output_type": "stream",
     "text": [
      "[(1134, 605), (1186, 721), (1179, 698), (1403, 840), (1232, 820), (1240, 922), (1468, 799), (1626, 914), (1862, 971), (2040, 983), (2187, 1126), (2257, 1057), (2471, 1095), (2425, 823), (2297, 1133), (2365, 1163), (2337, 1340), (2564, 1348), (2225, 1351), (2480, 1455), (2675, 1724), (2597, 1853), (2667, 1858), (2396, 1809), (2352, 1653), (2478, 1454), (2589, 1681), (3094, 1577), (2950, 1591), (3170, 1762), (3100, 1984), (3236, 1456), (3308, 1538), (2997, 1367), (3163, 1821), (3101, 2063), (3116, 2113), (3026, 2142), (2685, 1801), (2824, 1839), (3087, 1899), (3057, 2066), (3207, 2025), (3764, 1853), (3750, 2161), (4088, 2590), (4129, 2669), (4347, 2675), (3996, 2380), (3890, 2209), (3962, 2191), (3970, 2377), (3412, 2636), (3552, 2526), (3988, 2411), (3830, 2588), (4208, 2815), (4557, 2477), (4424, 2190), (4630, 2423), (4504, 2064), (4450, 2192), (4811, 2155), (4583, 2423), (4514, 2656), (4415, 2656), (4794, 2370), (4663, 2346), (4798, 2609), (4812, 2646)]\n",
      "[(377, 558), (747, 804), (335, 926), (1088, 750), (1094, 979), (1549, 1144), (1675, 786), (1708, 1565), (2388, 1392), (2856, 1015), (2592, 1227), (2539, 662), (3250, 943), (3088, 586), (3248, 1419), (3889, 720), (3663, 878), (3716, 1159), (4139, 1394), (4389, 1649), (4572, 2122), (4612, 1793), (3852, 1875), (3644, 2168), (3327, 2295), (3309, 1964), (2713, 2050), (4000, 899), (4316, 848), (4209, 1189), (4521, 1153), (4820, 928), (4894, 814), (4949, 1285), (4510, 1526), (5378, 2176), (5572, 1823), (5880, 2174), (4825, 2054), (5087, 548), (5722, 930), (5563, 1097), (6236, 1436), (6313, 1123), (6498, 1553), (6788, 1802), (6803, 1969), (7220, 2081), (6734, 2197), (7022, 1898), (7291, 1650), (7236, 1430), (7428, 1914), (7671, 1804), (6986, 1044), (6887, 1301), (8545, 1805), (8019, 1902), (7546, 1052), (7414, 713), (7085, 751), (7571, 1615), (7690, 1263), (8006, 1379), (8116, 1187), (8301, 1409), (8494, 1364), (8851, 1419), (8896, 984), (8661, 1159), (8564, 809), (8212, 842), (7821, 573), (8285, 481), (8732, 369), (5196, 2017)]\n"
     ]
    }
   ],
   "source": [
    "source_image_landmark = 'result/testOutput.csv'\n",
    "current = pd.read_csv(source_image_landmark)\n",
    "X = current['X']\n",
    "Y = current['Y']\n",
    "coords_1 = []\n",
    "for x,y in zip(X,Y):\n",
    "    coords_1.append((x,y))\n",
    "print(coords_1)\n",
    "\n",
    "source_image_landmark = source_image_landmarks[107]\n",
    "current = pd.read_csv(source_image_landmark)\n",
    "X = current['X']\n",
    "Y = current['Y']\n",
    "coords_2 = []\n",
    "for x,y in zip(X,Y):\n",
    "    coords_2.append((x,y))\n",
    "print(coords_2)"
   ]
  },
  {
   "cell_type": "code",
   "execution_count": 24,
   "metadata": {},
   "outputs": [
    {
     "name": "stdout",
     "output_type": "stream",
     "text": [
      "[[ 758.45764549  435.16663475  861.07026426 ... 7152.07501359\n",
      "  7601.66429146 4300.41718906]\n",
      " [ 825.25753556  446.77734947  875.3433612  ... 7103.05575087\n",
      "  7554.20545127 4214.2278059 ]\n",
      " [ 814.1277541   444.81456811  874.25396768 ... 7109.31255467\n",
      "  7560.1620353  4228.0078051 ]\n",
      " ...\n",
      " [4644.00043066 4208.66011933 4554.99549945 ... 4073.95495802\n",
      "  4523.85786691  626.36251484]\n",
      " [4873.58615395 4434.93246848 4769.78594908 ... 4085.04014668\n",
      "  4527.02507172  713.34984405]\n",
      " [4901.93523009 4462.86779997 4796.03263125 ... 4092.5485947\n",
      "  4533.33530637  736.95115171]]\n"
     ]
    }
   ],
   "source": [
    "TRE = distance.cdist(coords_1, coords_2, \"euclidean\") \n",
    "print(TRE)"
   ]
  },
  {
   "cell_type": "code",
   "execution_count": 25,
   "metadata": {},
   "outputs": [
    {
     "name": "stdout",
     "output_type": "stream",
     "text": [
      "[[0.07771713 0.04459036 0.08823157 ... 0.73285403 0.77892224 0.44065227]\n",
      " [0.08456194 0.04578008 0.0896941  ... 0.72783116 0.77405926 0.43182067]\n",
      " [0.0834215  0.04557896 0.08958247 ... 0.72847227 0.77466962 0.43323267]\n",
      " ...\n",
      " [0.47585832 0.43125016 0.46673823 ... 0.41744729 0.46354764 0.06418169]\n",
      " [0.49938336 0.45443569 0.48874723 ... 0.41858316 0.46387217 0.07309505]\n",
      " [0.50228821 0.45729815 0.49143666 ... 0.41935253 0.46451876 0.07551342]]\n"
     ]
    }
   ],
   "source": [
    "source  = Image.open(source_image_array[107])\n",
    "width, height = source.size\n",
    "\n",
    "sqrt_height_square_and_weight = numpy.sqrt(numpy.square(width)+numpy.square(height))\n",
    "rTRE = TRE/sqrt_height_square_and_weight\n",
    "print(rTRE)"
   ]
  },
  {
   "cell_type": "code",
   "execution_count": 26,
   "metadata": {},
   "outputs": [
    {
     "name": "stdout",
     "output_type": "stream",
     "text": [
      "0.31271486307602264\n"
     ]
    }
   ],
   "source": [
    "rTRE_mean = numpy.mean(rTRE)\n",
    "print(rTRE_mean)"
   ]
  },
  {
   "cell_type": "code",
   "execution_count": null,
   "metadata": {},
   "outputs": [],
   "source": []
  },
  {
   "cell_type": "code",
   "execution_count": 27,
   "metadata": {},
   "outputs": [
    {
     "ename": "NameError",
     "evalue": "name 'nn' is not defined",
     "output_type": "error",
     "traceback": [
      "\u001b[1;31m---------------------------------------------------------------------------\u001b[0m",
      "\u001b[1;31mNameError\u001b[0m                                 Traceback (most recent call last)",
      "\u001b[1;32m<ipython-input-27-a5d0de8e90e5>\u001b[0m in \u001b[0;36m<module>\u001b[1;34m\u001b[0m\n\u001b[1;32m----> 1\u001b[1;33m \u001b[1;32mclass\u001b[0m \u001b[0mDiscriminator\u001b[0m\u001b[1;33m(\u001b[0m\u001b[0mnn\u001b[0m\u001b[1;33m.\u001b[0m\u001b[0mModule\u001b[0m\u001b[1;33m)\u001b[0m\u001b[1;33m:\u001b[0m\u001b[1;33m\u001b[0m\u001b[1;33m\u001b[0m\u001b[0m\n\u001b[0m\u001b[0;32m      2\u001b[0m     \u001b[1;32mdef\u001b[0m \u001b[0m__init__\u001b[0m\u001b[1;33m(\u001b[0m\u001b[0mself\u001b[0m\u001b[1;33m)\u001b[0m\u001b[1;33m:\u001b[0m\u001b[1;33m\u001b[0m\u001b[1;33m\u001b[0m\u001b[0m\n\u001b[0;32m      3\u001b[0m         \u001b[0msuper\u001b[0m\u001b[1;33m(\u001b[0m\u001b[0mDiscriminator\u001b[0m\u001b[1;33m,\u001b[0m\u001b[0mself\u001b[0m\u001b[1;33m)\u001b[0m\u001b[1;33m.\u001b[0m\u001b[0m__init__\u001b[0m\u001b[1;33m(\u001b[0m\u001b[1;33m)\u001b[0m\u001b[1;33m\u001b[0m\u001b[1;33m\u001b[0m\u001b[0m\n\u001b[0;32m      4\u001b[0m \u001b[1;33m\u001b[0m\u001b[0m\n\u001b[0;32m      5\u001b[0m \u001b[1;33m\u001b[0m\u001b[0m\n",
      "\u001b[1;31mNameError\u001b[0m: name 'nn' is not defined"
     ]
    }
   ],
   "source": [
    "class Discriminator(nn.Module):\n",
    "    def __init__(self):\n",
    "        super(Discriminator,self).__init__()\n",
    "        \n",
    "        \n",
    "        self.cos_1 = nn.CosineSimilarity(eps=1e-6)\n",
    "        self.cos_2 = nn.CosineSimilarity(eps=1e-6)\n",
    "        \n",
    "    def forward(self,x_1,x_2,y_1,y_2):\n",
    "        \n",
    "        x = self.cos_1(x_1,x_2)\n",
    "        y = self.cos_2(y_1,y_2)\n",
    "        \n",
    "        output = nn.Sigmoid(x)+nn.Sigmoid(y)\n",
    "        if(output == 2):\n",
    "            return 1\n",
    "        else:\n",
    "            return 0"
   ]
  },
  {
   "cell_type": "code",
   "execution_count": null,
   "metadata": {},
   "outputs": [],
   "source": []
  }
 ],
 "metadata": {
  "kernelspec": {
   "display_name": "Python 3",
   "language": "python",
   "name": "python3"
  },
  "language_info": {
   "codemirror_mode": {
    "name": "ipython",
    "version": 3
   },
   "file_extension": ".py",
   "mimetype": "text/x-python",
   "name": "python",
   "nbconvert_exporter": "python",
   "pygments_lexer": "ipython3",
   "version": "3.6.8"
  }
 },
 "nbformat": 4,
 "nbformat_minor": 2
}
